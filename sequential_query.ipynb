{
 "cells": [
  {
   "cell_type": "code",
   "execution_count": 1,
   "metadata": {},
   "outputs": [],
   "source": [
    "from neo4j import GraphDatabase, Query, Record\n",
    "from neo4j.exceptions import ServiceUnavailable, SessionError"
   ]
  },
  {
   "cell_type": "code",
   "execution_count": 16,
   "metadata": {},
   "outputs": [],
   "source": [
    "uri = \"bolt://83.229.84.12:7687\"  \n",
    "username = \"tumaiReadonly\"\n",
    "password = \"MAKEATHON2024\"  \n",
    "database = \"graph2.db\"\n",
    "AUTH = (username, password)\n",
    "\n",
    "driver = GraphDatabase.driver(uri, auth=AUTH)"
   ]
  },
  {
   "cell_type": "code",
   "execution_count": 3,
   "metadata": {},
   "outputs": [
    {
     "name": "stdout",
     "output_type": "stream",
     "text": [
      "['HAS_PARENT', 'MAPS_TO', 'LOCATED_IN', 'TRANSCRIBED_INTO', 'HAS_SEQUENCE', 'BELONGS_TO_PROTEIN', 'TRANSLATED_INTO', 'ASSOCIATED_WITH', 'HAS_MODIFICATION', 'HAS_MODIFIED_SITE', 'IS_SUBSTRATE_OF', 'IS_SUBUNIT_OF', 'CURATED_INTERACTS_WITH', 'COMPILED_INTERACTS_WITH', 'ACTS_ON', 'IS_BIOMARKER_OF_DISEASE', 'IS_QCMARKER_IN_TISSUE', 'VARIANT_FOUND_IN_CHROMOSOME', 'VARIANT_FOUND_IN_GENE', 'VARIANT_FOUND_IN_PROTEIN', 'CURATED_AFFECTS_INTERACTION_WITH', 'VARIANT_IS_CLINICALLY_RELEVANT', 'DETECTED_IN_PATHOLOGY_SAMPLE', 'MENTIONED_IN_PUBLICATION', 'FOUND_IN_PROTEIN', 'HAS_STRUCTURE', 'VARIANT_FOUND_IN_GWAS', 'STUDIES_TRAIT', 'ANNOTATED_IN_PATHWAY', 'PUBLISHED_IN', 'HAS_ENROLLED', 'BELONGS_TO_SUBJECT', 'HAS_PHENOTYPE', 'HAS_DISEASE', 'HAS_PROTEIN', 'HAS_DAMAGE']\n"
     ]
    }
   ],
   "source": [
    "edge_types = None\n",
    "with driver.session(database=database) as session:\n",
    "\tdata = session.run(\"CALL db.relationshipTypes() YIELD relationshipType RETURN relationshipType;\")\n",
    "\tedge_types = [r[\"relationshipType\"] for r in data]\n",
    "print(edge_types)"
   ]
  },
  {
   "cell_type": "code",
   "execution_count": 22,
   "metadata": {},
   "outputs": [
    {
     "name": "stdout",
     "output_type": "stream",
     "text": [
      "9915 68\n"
     ]
    }
   ],
   "source": [
    "edges = []\n",
    "# HAS_DISEASE\n",
    "t = edge_types.index(\"HAS_DISEASE\")\n",
    "with driver.session(database=database) as session:\n",
    "\tdata = session.run(\"MATCH (a:Biological_sample)-[r:HAS_DISEASE]->(b) RETURN id(a), id(b)\")\n",
    "\tpatients = list(set(r[\"id(a)\"] for r in data))\n",
    "\tedges += [(r[\"id(a)\"], t, r[\"id(b)\"]) for r in data]\n",
    "\n",
    "# HAS_PROTEIN\n",
    "t = edge_types.index(\"HAS_PROTEIN\")\n",
    "with driver.session(database=database) as session:\n",
    "\tdata = session.run(\"MATCH (a:Biological_sample)-[r:HAS_PROTEIN]->(b) RETURN id(a), id(b)\")\n",
    "\tedges += [(r[\"id(a)\"], t, r[\"id(b)\"]) for r in data]\n",
    "\n",
    "# HAS_PHENOTYPE\n",
    "t = edge_types.index(\"HAS_PHENOTYPE\")\n",
    "with driver.session(database=database) as session:\n",
    "\tdata = session.run(\"MATCH (a:Biological_sample)-[r:HAS_PHENOTYPE]->(b) RETURN id(a), id(b)\")\n",
    "\tedges += [(r[\"id(a)\"], t, r[\"id(b)\"]) for r in data]\n",
    "\n",
    "print(edges.__len__(), patients.__len__())"
   ]
  },
  {
   "cell_type": "code",
   "execution_count": 5,
   "metadata": {},
   "outputs": [],
   "source": [
    "import torch"
   ]
  },
  {
   "cell_type": "code",
   "execution_count": 12,
   "metadata": {},
   "outputs": [
    {
     "data": {
      "text/plain": [
       "torch.Size([2, 10054])"
      ]
     },
     "execution_count": 12,
     "metadata": {},
     "output_type": "execute_result"
    }
   ],
   "source": [
    "edge_index = torch.tensor([(int(t[0]), int(t[2])) for t in edges], dtype=torch.int64).t()\n",
    "edge_index.shape"
   ]
  },
  {
   "cell_type": "code",
   "execution_count": 13,
   "metadata": {},
   "outputs": [
    {
     "data": {
      "text/plain": [
       "torch.Size([10054])"
      ]
     },
     "execution_count": 13,
     "metadata": {},
     "output_type": "execute_result"
    }
   ],
   "source": [
    "edge_type = torch.tensor([t[1] for t in edges], dtype=torch.int64)\n",
    "edge_type.shape"
   ]
  },
  {
   "cell_type": "code",
   "execution_count": 14,
   "metadata": {},
   "outputs": [
    {
     "data": {
      "text/plain": [
       "torch.Size([10054])"
      ]
     },
     "execution_count": 14,
     "metadata": {},
     "output_type": "execute_result"
    }
   ],
   "source": [
    "edge_weight = torch.ones(edge_type.shape[0], dtype=torch.float32)\n",
    "edge_weight.shape"
   ]
  },
  {
   "cell_type": "code",
   "execution_count": 18,
   "metadata": {},
   "outputs": [
    {
     "data": {
      "text/plain": [
       "1"
      ]
     },
     "execution_count": 18,
     "metadata": {},
     "output_type": "execute_result"
    }
   ],
   "source": [
    "with driver.session(database=database) as session:\n",
    "\tdata = session.run(\"MATCH (p:Biological_sample)-[e:HAS_DISEASE]->(n:Disease {name: 'control'}) RETURN id(p)\")\n",
    "\thealthy_patients = [r[\"id(p)\"] for r in data]\n",
    "healthy_patients.__len__()"
   ]
  },
  {
   "cell_type": "code",
   "execution_count": 20,
   "metadata": {},
   "outputs": [],
   "source": [
    "import numpy as np"
   ]
  },
  {
   "cell_type": "code",
   "execution_count": 23,
   "metadata": {},
   "outputs": [
    {
     "data": {
      "text/plain": [
       "(68,)"
      ]
     },
     "execution_count": 23,
     "metadata": {},
     "output_type": "execute_result"
    }
   ],
   "source": [
    "patients = np.array(patients)\n",
    "healthy_patients = np.array(healthy_patients)\n",
    "ill_label = np.isin(patients, healthy_patients, invert=True).astype(np.float32)\n",
    "ill_label.shape"
   ]
  },
  {
   "cell_type": "code",
   "execution_count": null,
   "metadata": {},
   "outputs": [],
   "source": []
  }
 ],
 "metadata": {
  "kernelspec": {
   "display_name": "careforrare",
   "language": "python",
   "name": "python3"
  },
  "language_info": {
   "codemirror_mode": {
    "name": "ipython",
    "version": 3
   },
   "file_extension": ".py",
   "mimetype": "text/x-python",
   "name": "python",
   "nbconvert_exporter": "python",
   "pygments_lexer": "ipython3",
   "version": "3.9.7"
  }
 },
 "nbformat": 4,
 "nbformat_minor": 2
}
