{
 "cells": [
  {
   "cell_type": "code",
   "execution_count": 1,
   "metadata": {},
   "outputs": [],
   "source": [
    "from neo4j import GraphDatabase, Query, Record\n",
    "from neo4j.exceptions import ServiceUnavailable, SessionError"
   ]
  },
  {
   "cell_type": "code",
   "execution_count": 4,
   "metadata": {},
   "outputs": [],
   "source": [
    "uri = \"bolt://83.229.84.12:7687\"  \n",
    "username = \"tumaiReadonly\"\n",
    "password = \"MAKEATHON2024\"  \n",
    "database = \"graph2.db\"\n",
    "AUTH = (username, password)\n",
    "\n",
    "driver = GraphDatabase.driver(uri, auth=AUTH)"
   ]
  },
  {
   "cell_type": "code",
   "execution_count": 17,
   "metadata": {},
   "outputs": [],
   "source": [
    "with driver.session(database=database) as session:\n",
    "\tdata = session.run(\"MATCH (n:Biological_sample) RETURN n.subjectid AS id\")\n",
    "\tids = [r[\"id\"] for r in data]"
   ]
  },
  {
   "cell_type": "code",
   "execution_count": 19,
   "metadata": {},
   "outputs": [
    {
     "data": {
      "text/plain": [
       "'10006'"
      ]
     },
     "execution_count": 19,
     "metadata": {},
     "output_type": "execute_result"
    }
   ],
   "source": [
    "ids[0]"
   ]
  },
  {
   "cell_type": "code",
   "execution_count": 21,
   "metadata": {},
   "outputs": [
    {
     "data": {
      "text/plain": [
       "\"\\n        MATCH (b:Biological_sample {subjectid: '10006'})-[:HAS_DISEASE]->(d:Disease)\\n        WHERE NOT d.name = 'control'\\n        OPTIONAL MATCH (b)-[:HAS_PROTEIN]->(p:Protein)\\n        OPTIONAL MATCH (b)-[:HAS_PHENOTYPE]->(ph:Phenotype)\\n        WITH b, \\n            collect(DISTINCT p.id) AS proteins,\\n            collect(DISTINCT ph.id) AS phenotypes,\\n            d.synonyms AS synonyms\\n        UNWIND synonyms AS synonym\\n        WITH b, proteins, phenotypes, synonym\\n        WHERE synonym CONTAINS 'ICD10CM:'\\n        RETURN b.subjectid AS subject_id, \\n            proteins,\\n            phenotypes,\\n            substring(synonym, size('ICD10CM:'), 1) AS disease\\n    \""
      ]
     },
     "execution_count": 21,
     "metadata": {},
     "output_type": "execute_result"
    }
   ],
   "source": []
  },
  {
   "cell_type": "code",
   "execution_count": 23,
   "metadata": {},
   "outputs": [
    {
     "name": "stdout",
     "output_type": "stream",
     "text": [
      "[{'subject_id': '10006', 'proteins': ['A0A493QPB3', 'Q96MI9', 'B0YJ93', 'A0A023I7H5', 'A0A059RY54', 'B7ZLZ9', 'A0A3S6RHL8', 'Q8NEF3', 'F5H3I8', 'A0A0C4DGS9', 'Q9BU19-4', 'A0A5C2GVB0', 'A0A1W2PR96', 'A0A5C2FWW4', 'Q07826', 'Q6LBK2', 'A0A5C2GUP6', 'O60293-1', 'A0A286YEY4', 'A8TX70-2', 'I3Y3J5', 'A0A5C2G1M9', 'A0A087WYF3', 'A0A288Q9R2', 'Q9NXF8', 'O43886', 'F8VWW8', 'E9LT22', 'H2DML0', 'S4R369', 'Q6LC06', 'O15533-2', 'S6BGE5', 'Q08EJ9', 'Q8NH37', 'Q8IZV2', 'Q8IZA9', 'H7BZB6', 'Q6RJW4', 'Q6WQV4'], 'phenotypes': ['HP:0032369', 'HP:0025066', 'HP:0001873', 'HP:0003236', 'HP:0002902', 'HP:0001899', 'HP:0002918', 'HP:0003228', 'HP:0003072', 'HP:0020059', 'HP:0001923', 'HP:0012417', 'HP:0031963', 'HP:0012416', 'HP:0011031', 'HP:0020063', 'HP:0002907', 'HP:0020062', 'HP:0002151', 'HP:0002905', 'HP:0031962', 'HP:0011899', 'HP:0008151', 'HP:0031969', 'HP:0002148', 'HP:0003645', 'HP:0011900', 'HP:0008163', 'HP:0003281', 'HP:0032198', 'HP:0002901', 'HP:0032437', 'HP:0003074', 'HP:0410174', 'HP:0001943', 'HP:0003259', 'HP:0001896', 'HP:0025547', 'HP:0003113', 'HP:0031956', 'HP:0032067', 'HP:0012117', 'HP:0003138', 'HP:0032368', 'HP:0040303', 'HP:0012101', 'HP:0011423', 'HP:0001974', 'HP:0001888', 'HP:0031851', 'HP:0025022', 'HP:0001894', 'HP:0003155', 'HP:0031965', 'HP:0012343', 'HP:0025435', 'HP:0032066', 'HP:0001882', 'HP:0003118', 'HP:0012085', 'HP:0003565', 'HP:0011227', 'HP:0003282', 'HP:0100827', 'HP:0020060', 'HP:0002917', 'HP:0002153', 'HP:0002900', 'HP:0025196', 'HP:0003073', 'HP:0005518', 'HP:0025548', 'HP:0003452'], 'disease': 'D'}]\n"
     ]
    }
   ],
   "source": [
    "with driver.session(database=database) as session:\n",
    "\tdata = session.run(f\"\"\"\n",
    "        MATCH (b:Biological_sample {{subjectid: '{ids[0]}'}})-[:HAS_DISEASE]->(d:Disease)\n",
    "        WHERE NOT d.name = 'control'\n",
    "        OPTIONAL MATCH (b)-[:HAS_PROTEIN]->(p:Protein)\n",
    "        OPTIONAL MATCH (b)-[:HAS_PHENOTYPE]->(ph:Phenotype)\n",
    "        WITH b, \n",
    "            collect(DISTINCT p.id) AS proteins,\n",
    "            collect(DISTINCT ph.id) AS phenotypes,\n",
    "            d.synonyms AS synonyms\n",
    "        UNWIND synonyms AS synonym\n",
    "        WITH b, proteins, phenotypes, synonym\n",
    "        WHERE synonym CONTAINS 'ICD10CM:'\n",
    "        RETURN b.subjectid AS subject_id, \n",
    "            proteins,\n",
    "            phenotypes,\n",
    "            substring(synonym, size('ICD10CM:'), 1) AS disease\n",
    "    \"\"\")\n",
    "\tprint([*data.data()])"
   ]
  }
 ],
 "metadata": {
  "kernelspec": {
   "display_name": "careforrare",
   "language": "python",
   "name": "python3"
  },
  "language_info": {
   "codemirror_mode": {
    "name": "ipython",
    "version": 3
   },
   "file_extension": ".py",
   "mimetype": "text/x-python",
   "name": "python",
   "nbconvert_exporter": "python",
   "pygments_lexer": "ipython3",
   "version": "3.9.7"
  }
 },
 "nbformat": 4,
 "nbformat_minor": 2
}
